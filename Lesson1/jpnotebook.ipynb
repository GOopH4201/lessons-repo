{
 "cells": [
  {
   "cell_type": "markdown",
   "metadata": {},
   "source": [
    "# Игра угадай число"
   ]
  },
  {
   "cell_type": "code",
   "execution_count": 4,
   "metadata": {},
   "outputs": [],
   "source": [
    "from game_v2 import score_game\n",
    "\n",
    "from game_v2 import random_predict, low_hight_predict, smard_low_hight_predict"
   ]
  },
  {
   "cell_type": "markdown",
   "metadata": {},
   "source": [
    "## Угадываем рандомно"
   ]
  },
  {
   "cell_type": "code",
   "execution_count": 5,
   "metadata": {},
   "outputs": [
    {
     "name": "stdout",
     "output_type": "stream",
     "text": [
      "Среднее число угадываний алгоритма random_predict: 101 попыток\n",
      "Среднее число угадываний алгоритма low_hight_predict: 9 попыток\n",
      "Среднее число угадываний алгоритма smard_low_hight_predict: 5 попыток\n"
     ]
    }
   ],
   "source": [
    "print(f\"Среднее число угадываний алгоритма {random_predict.__name__}: {score_game(random_predict)} попыток\")\n",
    "print(f\"Среднее число угадываний алгоритма {low_hight_predict.__name__}: {score_game(low_hight_predict)} попыток\")\n",
    "print(f\"Среднее число угадываний алгоритма {smard_low_hight_predict.__name__}: {score_game(smard_low_hight_predict)} попыток\")"
   ]
  },
  {
   "cell_type": "code",
   "execution_count": 7,
   "metadata": {},
   "outputs": [],
   "source": [
    "n = 10\n",
    "z = n\n",
    "n = 5\n",
    "predict = 25"
   ]
  },
  {
   "cell_type": "code",
   "execution_count": 12,
   "metadata": {},
   "outputs": [
    {
     "name": "stdout",
     "output_type": "stream",
     "text": [
      "\u001b[1;31mSignature:\u001b[0m \u001b[0msmard_low_hight_predict\u001b[0m\u001b[1;33m(\u001b[0m\u001b[0mnumber\u001b[0m\u001b[1;33m:\u001b[0m \u001b[0mint\u001b[0m \u001b[1;33m=\u001b[0m \u001b[1;36m1\u001b[0m\u001b[1;33m)\u001b[0m \u001b[1;33m->\u001b[0m \u001b[0mint\u001b[0m\u001b[1;33m\u001b[0m\u001b[1;33m\u001b[0m\u001b[0m\n",
      "\u001b[1;31mDocstring:\u001b[0m\n",
      "Находит загаданное число по алгоритму границ деля его попалам\n",
      "\n",
      "Args:\n",
      "    number (int, optional): Число которое нужно угадать. Defaults to 1.\n",
      "\n",
      "Returns:\n",
      "    int: Кол-во попыток\n",
      "\u001b[1;31mFile:\u001b[0m      d:\\ide\\lesson1\\game_v2.py\n",
      "\u001b[1;31mType:\u001b[0m      function"
     ]
    }
   ],
   "source": [
    "smard_low_hight_predict?"
   ]
  }
 ],
 "metadata": {
  "kernelspec": {
   "display_name": "Python 3",
   "language": "python",
   "name": "python3"
  },
  "language_info": {
   "codemirror_mode": {
    "name": "ipython",
    "version": 3
   },
   "file_extension": ".py",
   "mimetype": "text/x-python",
   "name": "python",
   "nbconvert_exporter": "python",
   "pygments_lexer": "ipython3",
   "version": "3.9.10"
  }
 },
 "nbformat": 4,
 "nbformat_minor": 2
}
